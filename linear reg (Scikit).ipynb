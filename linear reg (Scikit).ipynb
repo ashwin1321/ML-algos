{
 "cells": [
  {
   "cell_type": "code",
   "execution_count": 2,
   "id": "1b72c98b",
   "metadata": {},
   "outputs": [],
   "source": [
    "import numpy as np\n",
    "import matplotlib.pyplot as plt\n",
    "from sklearn import datasets, linear_model\n",
    "from sklearn.metrics import mean_squared_error"
   ]
  },
  {
   "cell_type": "code",
   "execution_count": 3,
   "id": "e5042156",
   "metadata": {},
   "outputs": [],
   "source": [
    "diabetes = datasets.load_diabetes()          # loading the datasets"
   ]
  },
  {
   "cell_type": "code",
   "execution_count": 58,
   "id": "ff23e1ab",
   "metadata": {},
   "outputs": [
    {
     "data": {
      "text/plain": [
       "dict_keys(['data', 'target', 'frame', 'DESCR', 'feature_names', 'data_filename', 'target_filename', 'data_module'])"
      ]
     },
     "execution_count": 58,
     "metadata": {},
     "output_type": "execute_result"
    }
   ],
   "source": [
    "diabetes.keys()               # return keys in the datasets"
   ]
  },
  {
   "cell_type": "code",
   "execution_count": 59,
   "id": "ffc0eb88",
   "metadata": {},
   "outputs": [
    {
     "data": {
      "text/plain": [
       "['.. _diabetes_dataset:',\n",
       " '',\n",
       " 'Diabetes dataset',\n",
       " '----------------',\n",
       " '',\n",
       " 'Ten baseline variables, age, sex, body mass index, average blood',\n",
       " 'pressure, and six blood serum measurements were obtained for each of n =',\n",
       " '442 diabetes patients, as well as the response of interest, a',\n",
       " 'quantitative measure of disease progression one year after baseline.',\n",
       " '',\n",
       " '**Data Set Characteristics:**',\n",
       " '',\n",
       " '  :Number of Instances: 442',\n",
       " '',\n",
       " '  :Number of Attributes: First 10 columns are numeric predictive values',\n",
       " '',\n",
       " '  :Target: Column 11 is a quantitative measure of disease progression one year after baseline',\n",
       " '',\n",
       " '  :Attribute Information:',\n",
       " '      - age     age in years',\n",
       " '      - sex',\n",
       " '      - bmi     body mass index',\n",
       " '      - bp      average blood pressure',\n",
       " '      - s1      tc, total serum cholesterol',\n",
       " '      - s2      ldl, low-density lipoproteins',\n",
       " '      - s3      hdl, high-density lipoproteins',\n",
       " '      - s4      tch, total cholesterol / HDL',\n",
       " '      - s5      ltg, possibly log of serum triglycerides level',\n",
       " '      - s6      glu, blood sugar level',\n",
       " '',\n",
       " 'Note: Each of these 10 feature variables have been mean centered and scaled by the standard deviation times `n_samples` (i.e. the sum of squares of each column totals 1).',\n",
       " '',\n",
       " 'Source URL:',\n",
       " 'https://www4.stat.ncsu.edu/~boos/var.select/diabetes.html',\n",
       " '',\n",
       " 'For more information see:',\n",
       " 'Bradley Efron, Trevor Hastie, Iain Johnstone and Robert Tibshirani (2004) \"Least Angle Regression,\" Annals of Statistics (with discussion), 407-499.',\n",
       " '(https://web.stanford.edu/~hastie/Papers/LARS/LeastAngle_2002.pdf)']"
      ]
     },
     "execution_count": 59,
     "metadata": {},
     "output_type": "execute_result"
    }
   ],
   "source": [
    "diabetes.DESCR.splitlines()   #ofc line split garxa what else bro"
   ]
  },
  {
   "cell_type": "code",
   "execution_count": 84,
   "id": "55c2bbe7",
   "metadata": {},
   "outputs": [],
   "source": [
    "diabetes_X = diabetes.data \n",
    "diabetes_X\n",
    "\n",
    "diabetes_X_train = diabetes_X[:-30]\n",
    "diabetes_X_test = diabetes_X[-30:]"
   ]
  },
  {
   "cell_type": "code",
   "execution_count": 85,
   "id": "32df364f",
   "metadata": {},
   "outputs": [],
   "source": [
    "diabetes_Y_train = diabetes.target[:-30]\n",
    "diabetes_Y_test = diabetes.target[-30:]"
   ]
  },
  {
   "cell_type": "code",
   "execution_count": 86,
   "id": "adcd48fe",
   "metadata": {},
   "outputs": [
    {
     "data": {
      "text/plain": [
       "LinearRegression()"
      ]
     },
     "execution_count": 86,
     "metadata": {},
     "output_type": "execute_result"
    }
   ],
   "source": [
    "model = linear_model.LinearRegression()\n",
    "\n",
    "model.fit(diabetes_X_train,diabetes_Y_train)"
   ]
  },
  {
   "cell_type": "code",
   "execution_count": 87,
   "id": "ab24eaf3",
   "metadata": {},
   "outputs": [],
   "source": [
    "diabetes_Y_predict = model.predict(diabetes_X_test)"
   ]
  },
  {
   "cell_type": "code",
   "execution_count": 88,
   "id": "ff5789c7",
   "metadata": {},
   "outputs": [
    {
     "name": "stdout",
     "output_type": "stream",
     "text": [
      "mean_squared_error is:  1826.5364191345425\n"
     ]
    }
   ],
   "source": [
    "print(\"mean_squared_error is: \", mean_squared_error(diabetes_Y_test,diabetes_Y_predict))"
   ]
  },
  {
   "cell_type": "code",
   "execution_count": 89,
   "id": "5f2a840b",
   "metadata": {},
   "outputs": [
    {
     "name": "stdout",
     "output_type": "stream",
     "text": [
      "weighs:  [  -1.16924976 -237.18461486  518.30606657  309.04865826 -763.14121622\n",
      "  458.90999325   80.62441437  174.32183366  721.49712065   79.19307944]\n"
     ]
    }
   ],
   "source": [
    "print('weighs: ', model.coef_)"
   ]
  },
  {
   "cell_type": "code",
   "execution_count": 90,
   "id": "2f7f6199",
   "metadata": {},
   "outputs": [
    {
     "name": "stdout",
     "output_type": "stream",
     "text": [
      "Intercept:  153.05827988224112\n"
     ]
    }
   ],
   "source": [
    "print('Intercept: ', model.intercept_ )"
   ]
  },
  {
   "cell_type": "code",
   "execution_count": 91,
   "id": "5ef3004c",
   "metadata": {},
   "outputs": [],
   "source": [
    "# plt.scatter(diabetes_X_test,diabetes_Y_test)\n",
    "# plt.plot(diabetes_X_test, diabetes_Y_predict)\n",
    "# plt.show()"
   ]
  }
 ],
 "metadata": {
  "kernelspec": {
   "display_name": "Python 3 (ipykernel)",
   "language": "python",
   "name": "python3"
  },
  "language_info": {
   "codemirror_mode": {
    "name": "ipython",
    "version": 3
   },
   "file_extension": ".py",
   "mimetype": "text/x-python",
   "name": "python",
   "nbconvert_exporter": "python",
   "pygments_lexer": "ipython3",
   "version": "3.9.9"
  }
 },
 "nbformat": 4,
 "nbformat_minor": 5
}
